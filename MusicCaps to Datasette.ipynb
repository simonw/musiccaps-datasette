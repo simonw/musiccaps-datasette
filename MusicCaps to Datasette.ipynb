{
 "cells": [
  {
   "cell_type": "markdown",
   "id": "a3f7e6ef",
   "metadata": {},
   "source": [
    "# MusicCaps to Datasette\n",
    "\n",
    "Make something neat out of:\n",
    "    \n",
    "- https://raw.githubusercontent.com/tensorflow/models/master/research/audioset/yamnet/yamnet_class_map.csv\n",
    "- https://gist.github.com/simonw/cd138ed5effebc0924bf174942a7b3e0"
   ]
  },
  {
   "cell_type": "code",
   "execution_count": 1,
   "id": "41ae0d40",
   "metadata": {},
   "outputs": [],
   "source": [
    "# Figure out how to turn a Python array into JSON\n",
    "tags = \"['low quality', 'sustained strings melody', 'soft female vocal', 'mellow piano melody', 'sad', 'soulful', 'ballad']\""
   ]
  },
  {
   "cell_type": "code",
   "execution_count": 97,
   "id": "5bd08dd0",
   "metadata": {},
   "outputs": [],
   "source": [
    "import ast, json"
   ]
  },
  {
   "cell_type": "code",
   "execution_count": 26,
   "id": "98d6f1ce",
   "metadata": {},
   "outputs": [
    {
     "data": {
      "text/plain": [
       "['low quality',\n",
       " 'sustained strings melody',\n",
       " 'soft female vocal',\n",
       " 'mellow piano melody',\n",
       " 'sad',\n",
       " 'soulful',\n",
       " 'ballad']"
      ]
     },
     "execution_count": 26,
     "metadata": {},
     "output_type": "execute_result"
    }
   ],
   "source": [
    "ast.literal_eval(tags)"
   ]
  },
  {
   "cell_type": "code",
   "execution_count": 27,
   "id": "a59a4f05",
   "metadata": {},
   "outputs": [],
   "source": [
    "import csv"
   ]
  },
  {
   "cell_type": "code",
   "execution_count": 36,
   "id": "95f7c700",
   "metadata": {},
   "outputs": [],
   "source": [
    "import httpx, io"
   ]
  },
  {
   "cell_type": "code",
   "execution_count": 31,
   "id": "520dc7cc",
   "metadata": {},
   "outputs": [],
   "source": [
    "audioset_csv = httpx.get(\"https://raw.githubusercontent.com/tensorflow/models/master/research/audioset/yamnet/yamnet_class_map.csv\").text"
   ]
  },
  {
   "cell_type": "code",
   "execution_count": 175,
   "id": "f84b6640",
   "metadata": {},
   "outputs": [
    {
     "data": {
      "text/plain": [
       "[('/m/09x0r', 'Speech'),\n",
       " ('/m/0ytgt', 'Child speech, kid speaking'),\n",
       " ('/m/01h8n0', 'Conversation')]"
      ]
     },
     "execution_count": 175,
     "metadata": {},
     "output_type": "execute_result"
    }
   ],
   "source": [
    "# Build an array to look up audioset names by their IDs\n",
    "audioset_lookup = {\n",
    "    r['mid']: r['display_name']\n",
    "    for r in list(csv.DictReader(io.StringIO(audioset_csv)))\n",
    "}\n",
    "list(audioset_lookup.items())[:3]"
   ]
  },
  {
   "cell_type": "code",
   "execution_count": 40,
   "id": "7245eb58",
   "metadata": {},
   "outputs": [],
   "source": [
    "youtube_key = '... API key goes here ...'"
   ]
  },
  {
   "cell_type": "code",
   "execution_count": 2,
   "id": "b1896414",
   "metadata": {},
   "outputs": [],
   "source": [
    "# Fetch video data from the YouTube API\n",
    "def details_for_video_ids(video_ids):\n",
    "    response = httpx.get(\"https://www.googleapis.com/youtube/v3/videos\", params={\n",
    "        \"part\": \"snippet,statistics\",\n",
    "        \"id\": \",\".join(video_ids),\n",
    "        \"key\": youtube_key,\n",
    "    })\n",
    "    items = []\n",
    "    for raw_item in response.json()[\"items\"]:\n",
    "        item = {\"id\": raw_item[\"id\"]}\n",
    "        item.update(raw_item[\"snippet\"])\n",
    "        # Convert stats to integers\n",
    "        item.update({k: int(v) for k, v in raw_item[\"statistics\"].items()})\n",
    "        items.append(item)\n",
    "    return items"
   ]
  },
  {
   "cell_type": "code",
   "execution_count": 58,
   "id": "589150f8",
   "metadata": {},
   "outputs": [
    {
     "data": {
      "text/plain": [
       "[{'id': '-FlvaZQOr2I',\n",
       "  'publishedAt': '2014-10-25T21:20:40Z',\n",
       "  'channelId': 'UCy41ACXafDUcOMIBN90ZE1g',\n",
       "  'title': \"[Growtopia] Why Noobs Can't Spell\",\n",
       "  'description': '100% Illuminati. Where is the world going into?\\n-------------------------------------------------------------------------------------------------------------------------------------\\nCocoaCookieP Channel►https://www.youtube.com/user/CocoaCookieP\\nFesliyan Studios►https://www.youtube.com/watch?v=NWaNW-aYhVY\\n\\nWanna Play Growtopia? Links Below...\\nPC►http://growtopiagame.com/GrowtopiaIns...\\nMac►http://growtopia.org/Growtopia.dmg\\niOS►http://bit.ly/1fP8dvP\\nAndroid►http://bit.ly/1ciiWhv',\n",
       "  'thumbnails': {'default': {'url': 'https://i.ytimg.com/vi/-FlvaZQOr2I/default.jpg',\n",
       "    'width': 120,\n",
       "    'height': 90},\n",
       "   'medium': {'url': 'https://i.ytimg.com/vi/-FlvaZQOr2I/mqdefault.jpg',\n",
       "    'width': 320,\n",
       "    'height': 180},\n",
       "   'high': {'url': 'https://i.ytimg.com/vi/-FlvaZQOr2I/hqdefault.jpg',\n",
       "    'width': 480,\n",
       "    'height': 360}},\n",
       "  'channelTitle': 'CookieRickey',\n",
       "  'tags': ['Newbie',\n",
       "   'Growtopia',\n",
       "   'CocoCookieP',\n",
       "   'vtow',\n",
       "   \"Why Noobs Can't Spell\",\n",
       "   'Epic',\n",
       "   'GrowNoobShow',\n",
       "   'EasyE'],\n",
       "  'categoryId': '10',\n",
       "  'liveBroadcastContent': 'none',\n",
       "  'localized': {'title': \"[Growtopia] Why Noobs Can't Spell\",\n",
       "   'description': '100% Illuminati. Where is the world going into?\\n-------------------------------------------------------------------------------------------------------------------------------------\\nCocoaCookieP Channel►https://www.youtube.com/user/CocoaCookieP\\nFesliyan Studios►https://www.youtube.com/watch?v=NWaNW-aYhVY\\n\\nWanna Play Growtopia? Links Below...\\nPC►http://growtopiagame.com/GrowtopiaIns...\\nMac►http://growtopia.org/Growtopia.dmg\\niOS►http://bit.ly/1fP8dvP\\nAndroid►http://bit.ly/1ciiWhv'},\n",
       "  'viewCount': 180828,\n",
       "  'likeCount': 1308,\n",
       "  'favoriteCount': 0,\n",
       "  'commentCount': 0}]"
      ]
     },
     "execution_count": 58,
     "metadata": {},
     "output_type": "execute_result"
    }
   ],
   "source": [
    "r = details_for_video_ids([\"-FlvaZQOr2I\"]); r"
   ]
  },
  {
   "cell_type": "code",
   "execution_count": 217,
   "id": "ab80e5cc",
   "metadata": {},
   "outputs": [],
   "source": [
    "caps = list(csv.DictReader(io.StringIO(\n",
    "    httpx.get(\n",
    "        \"https://gist.githubusercontent.com/simonw/cd138ed5effebc0924bf174942a7b3e0/raw/895bbab783aaac43143c9322b3ad4289ad0ae36d/musiccaps-public.csv\"\n",
    "    ).text\n",
    ")))"
   ]
  },
  {
   "cell_type": "code",
   "execution_count": 64,
   "id": "0854b0ca",
   "metadata": {},
   "outputs": [],
   "source": [
    "ids = [cap['ytid'] for cap in caps]"
   ]
  },
  {
   "cell_type": "code",
   "execution_count": 65,
   "id": "647f04ae",
   "metadata": {},
   "outputs": [
    {
     "data": {
      "text/plain": [
       "5521"
      ]
     },
     "execution_count": 65,
     "metadata": {},
     "output_type": "execute_result"
    }
   ],
   "source": [
    "len(ids)"
   ]
  },
  {
   "cell_type": "code",
   "execution_count": 66,
   "id": "a77d818e",
   "metadata": {},
   "outputs": [],
   "source": [
    "def batch(iterable, n=1):\n",
    "    l = len(iterable)\n",
    "    for ndx in range(0, l, n):\n",
    "        yield iterable[ndx:min(ndx + n, l)]"
   ]
  },
  {
   "cell_type": "code",
   "execution_count": 67,
   "id": "986dc457",
   "metadata": {},
   "outputs": [],
   "source": [
    "batches = [list(b) for b in batch(ids, 50)]"
   ]
  },
  {
   "cell_type": "code",
   "execution_count": 69,
   "id": "0b627d28",
   "metadata": {},
   "outputs": [
    {
     "data": {
      "text/plain": [
       "(50, 111)"
      ]
     },
     "execution_count": 69,
     "metadata": {},
     "output_type": "execute_result"
    }
   ],
   "source": [
    "len(batches[0]), len(batches)"
   ]
  },
  {
   "cell_type": "code",
   "execution_count": null,
   "id": "04f7e6a3",
   "metadata": {
    "scrolled": false
   },
   "outputs": [],
   "source": [
    "import time\n",
    "videos = []\n",
    "for batch in batches:\n",
    "    videos.extend(details_for_video_ids(batch))\n",
    "    time.sleep(2)"
   ]
  },
  {
   "cell_type": "code",
   "execution_count": 71,
   "id": "a01f88b1",
   "metadata": {},
   "outputs": [
    {
     "data": {
      "text/plain": [
       "5503"
      ]
     },
     "execution_count": 71,
     "metadata": {},
     "output_type": "execute_result"
    }
   ],
   "source": [
    "len(videos)"
   ]
  },
  {
   "cell_type": "code",
   "execution_count": 75,
   "id": "2d82f2f5",
   "metadata": {},
   "outputs": [],
   "source": [
    "import sqlite_utils\n",
    "db = sqlite_utils.Database(\"/tmp/musiccaps.db\")"
   ]
  },
  {
   "cell_type": "code",
   "execution_count": 79,
   "id": "607e5972",
   "metadata": {},
   "outputs": [
    {
     "data": {
      "text/plain": [
       "<Table videos (id, publishedAt, channelId, title, description, thumbnails, channelTitle, tags, categoryId, liveBroadcastContent, localized, viewCount, likeCount, favoriteCount, commentCount, defaultAudioLanguage, defaultLanguage)>"
      ]
     },
     "execution_count": 79,
     "metadata": {},
     "output_type": "execute_result"
    }
   ],
   "source": [
    "db[\"videos\"].insert_all(videos, pk=\"id\", alter=True, replace=True)"
   ]
  },
  {
   "cell_type": "code",
   "execution_count": 218,
   "id": "ee8e71e9",
   "metadata": {},
   "outputs": [
    {
     "data": {
      "text/plain": [
       "{'ytid': '-0Gj8-vB1q4',\n",
       " 'start_s': '30',\n",
       " 'end_s': '40',\n",
       " 'audioset_positive_labels': '/m/0140xf,/m/02cjck,/m/04rlf',\n",
       " 'aspect_list': \"['low quality', 'sustained strings melody', 'soft female vocal', 'mellow piano melody', 'sad', 'soulful', 'ballad']\",\n",
       " 'caption': 'The low quality recording features a ballad song that contains sustained strings, mellow piano melody and soft female vocal singing over it. It sounds sad and soulful, like something you would hear at Sunday services.',\n",
       " 'author_id': '4',\n",
       " 'is_balanced_subset': 'False',\n",
       " 'is_audioset_eval': 'True'}"
      ]
     },
     "execution_count": 218,
     "metadata": {},
     "output_type": "execute_result"
    }
   ],
   "source": [
    "caps[0]"
   ]
  },
  {
   "cell_type": "code",
   "execution_count": 222,
   "id": "e7f787aa",
   "metadata": {},
   "outputs": [],
   "source": [
    "for cap in caps:\n",
    "    cap[\"url\"] = f\"https://www.youtube.com/watch?v={cap['ytid']}&start={cap['start_s']}&end={cap['end_s']}\"\n",
    "    cap[\"aspect_list\"] = ast.literal_eval(cap[\"aspect_list\"])\n",
    "    for key in (\"is_balanced_subset\", \"is_audioset_eval\"):\n",
    "        cap[key] = {\"True\": 1, \"False\": 0}[cap[key]]\n",
    "    cap[\"audioset_ids\"] = cap.pop(\"audioset_positive_labels\").split(\",\")\n",
    "    cap[\"audioset_names\"] = [audioset_lookup.get(id, id) for id in cap[\"audioset_ids\"]]"
   ]
  },
  {
   "cell_type": "code",
   "execution_count": 223,
   "id": "cadf1721",
   "metadata": {},
   "outputs": [
    {
     "data": {
      "text/plain": [
       "{'ytid': '-0Gj8-vB1q4',\n",
       " 'start_s': '30',\n",
       " 'end_s': '40',\n",
       " 'aspect_list': ['low quality',\n",
       "  'sustained strings melody',\n",
       "  'soft female vocal',\n",
       "  'mellow piano melody',\n",
       "  'sad',\n",
       "  'soulful',\n",
       "  'ballad'],\n",
       " 'caption': 'The low quality recording features a ballad song that contains sustained strings, mellow piano melody and soft female vocal singing over it. It sounds sad and soulful, like something you would hear at Sunday services.',\n",
       " 'author_id': '4',\n",
       " 'is_balanced_subset': 0,\n",
       " 'is_audioset_eval': 1,\n",
       " 'url': 'https://www.youtube.com/watch?v=-0Gj8-vB1q4&start=30&end=40',\n",
       " 'audioset_ids': ['/m/0140xf', '/m/02cjck', '/m/04rlf'],\n",
       " 'audioset_names': ['Christmas music', 'Theme music', 'Music']}"
      ]
     },
     "execution_count": 223,
     "metadata": {},
     "output_type": "execute_result"
    }
   ],
   "source": [
    "caps[0]"
   ]
  },
  {
   "cell_type": "code",
   "execution_count": 224,
   "id": "827ec35a",
   "metadata": {},
   "outputs": [],
   "source": [
    "db[\"musiccaps\"].drop(ignore=True)"
   ]
  },
  {
   "cell_type": "code",
   "execution_count": 225,
   "id": "5468016b",
   "metadata": {},
   "outputs": [
    {
     "data": {
      "text/plain": [
       "<Table musiccaps (ytid, url, caption, aspect_list, audioset_names, author_id, start_s, end_s, is_balanced_subset, is_audioset_eval, audioset_ids)>"
      ]
     },
     "execution_count": 225,
     "metadata": {},
     "output_type": "execute_result"
    }
   ],
   "source": [
    "db[\"musiccaps\"].insert_all(caps, pk=\"ytid\", column_order=\"ytid, url, caption, aspect_list, audioset_names, author_id\".split(\", \"))"
   ]
  },
  {
   "cell_type": "code",
   "execution_count": 226,
   "id": "21ffc013",
   "metadata": {},
   "outputs": [
    {
     "data": {
      "text/plain": [
       "<Table musiccaps (ytid, url, caption, aspect_list, audioset_names, author_id, start_s, end_s, is_balanced_subset, is_audioset_eval, audioset_ids)>"
      ]
     },
     "execution_count": 226,
     "metadata": {},
     "output_type": "execute_result"
    }
   ],
   "source": [
    "db[\"musiccaps\"].enable_fts([\"caption\"], replace=True)"
   ]
  },
  {
   "cell_type": "code",
   "execution_count": 228,
   "id": "b31d8ae3",
   "metadata": {},
   "outputs": [
    {
     "data": {
      "text/plain": [
       "{'ytid': '-0Gj8-vB1q4',\n",
       " 'url': 'https://www.youtube.com/watch?v=-0Gj8-vB1q4&start=30&end=40',\n",
       " 'caption': 'The low quality recording features a ballad song that contains sustained strings, mellow piano melody and soft female vocal singing over it. It sounds sad and soulful, like something you would hear at Sunday services.',\n",
       " 'aspect_list': '[\"low quality\", \"sustained strings melody\", \"soft female vocal\", \"mellow piano melody\", \"sad\", \"soulful\", \"ballad\"]',\n",
       " 'audioset_names': '[\"Christmas music\", \"Theme music\", \"Music\"]',\n",
       " 'author_id': '4',\n",
       " 'start_s': '30',\n",
       " 'end_s': '40',\n",
       " 'is_balanced_subset': 0,\n",
       " 'is_audioset_eval': 1,\n",
       " 'audioset_ids': '[\"/m/0140xf\", \"/m/02cjck\", \"/m/04rlf\"]'}"
      ]
     },
     "execution_count": 228,
     "metadata": {},
     "output_type": "execute_result"
    }
   ],
   "source": [
    "next(db[\"musiccaps\"].rows)"
   ]
  },
  {
   "cell_type": "code",
   "execution_count": 235,
   "id": "ad93131d",
   "metadata": {},
   "outputs": [],
   "source": [
    "sql_for_view = \"\"\"select\n",
    "  musiccaps.url as video,\n",
    "  json_object(\n",
    "    'label',\n",
    "    coalesce(videos.title, 'Missing from YouTube'),\n",
    "    'href',\n",
    "    musiccaps.url\n",
    "  ) as youtube_link,\n",
    "  musiccaps.caption as musiccaps_caption,\n",
    "  videos.publishedAt as youtube_published,\n",
    "  videos.channelTitle as youtube_channel,\n",
    "  videos.description as youtube_description,\n",
    "  musiccaps.audioset_names as musiccaps_names,\n",
    "  musiccaps.aspect_list as musiccaps_aspects,\n",
    "  musiccaps.author_id as musiccaps_author,\n",
    "  videos.id as youtube_id,\n",
    "  musiccaps.rowid as musiccaps_rowid\n",
    "from\n",
    "  musiccaps\n",
    "  left join videos on musiccaps.ytid = videos.id\"\"\""
   ]
  },
  {
   "cell_type": "code",
   "execution_count": 236,
   "id": "00a56af4",
   "metadata": {},
   "outputs": [
    {
     "data": {
      "text/plain": [
       "<Database <sqlite3.Connection object at 0x11844a200>>"
      ]
     },
     "execution_count": 236,
     "metadata": {},
     "output_type": "execute_result"
    }
   ],
   "source": [
    "db.create_view(\"musiccaps_details\", sql_for_view, replace=True)"
   ]
  },
  {
   "cell_type": "code",
   "execution_count": null,
   "id": "3bcc684a",
   "metadata": {},
   "outputs": [],
   "source": []
  }
 ],
 "metadata": {
  "kernelspec": {
   "display_name": "Python 3 (ipykernel)",
   "language": "python",
   "name": "python3"
  },
  "language_info": {
   "codemirror_mode": {
    "name": "ipython",
    "version": 3
   },
   "file_extension": ".py",
   "mimetype": "text/x-python",
   "name": "python",
   "nbconvert_exporter": "python",
   "pygments_lexer": "ipython3",
   "version": "3.11.1"
  }
 },
 "nbformat": 4,
 "nbformat_minor": 5
}
